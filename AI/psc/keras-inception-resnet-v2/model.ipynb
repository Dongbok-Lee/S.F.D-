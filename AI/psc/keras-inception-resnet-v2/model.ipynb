{
 "cells": [
  {
   "cell_type": "code",
   "execution_count": null,
   "metadata": {},
   "outputs": [],
   "source": [
    "# TensorFlow 설치 (기본적으로 코랩에는 TensorFlow가 설치되어 있지만, 버전 업데이트가 필요할 수 있음)\n",
    "%pip install tensorflow\n",
    "\n",
    "# 모델을 사용하기 위한 추가 라이브러리 설치\n",
    "%pip install h5py"
   ]
  },
  {
   "cell_type": "code",
   "execution_count": 5,
   "metadata": {},
   "outputs": [
    {
     "name": "stdout",
     "output_type": "stream",
     "text": [
      "Cloning into 'keras-inception-resnet-v2'...\n",
      "remote: Enumerating objects: 134, done.\u001b[K\n",
      "remote: Counting objects: 100% (21/21), done.\u001b[K\n",
      "remote: Compressing objects: 100% (19/19), done.\u001b[K\n",
      "remote: Total 134 (delta 7), reused 5 (delta 2), pack-reused 113 (from 1)\u001b[K\n",
      "Receiving objects: 100% (134/134), 75.39 KiB | 3.28 MiB/s, done.\n",
      "Resolving deltas: 100% (73/73), done.\n"
     ]
    }
   ],
   "source": [
    "# GitHub 리포지토리 클론\n",
    "#!git clone https://github.com/yuyang-huang/keras-inception-resnet-v2.git"
   ]
  },
  {
   "cell_type": "code",
   "execution_count": 4,
   "metadata": {},
   "outputs": [
    {
     "ename": "FileNotFoundError",
     "evalue": "[Errno 2] No such file or directory: 'C:/Users/SSAFY/Desktop/Image/Validation/test'",
     "output_type": "error",
     "traceback": [
      "\u001b[0;31m---------------------------------------------------------------------------\u001b[0m",
      "\u001b[0;31mFileNotFoundError\u001b[0m                         Traceback (most recent call last)",
      "\u001b[0;32m<ipython-input-4-c62f3b2c1943>\u001b[0m in \u001b[0;36m<cell line: 15>\u001b[0;34m()\u001b[0m\n\u001b[1;32m     13\u001b[0m \u001b[0;34m\u001b[0m\u001b[0m\n\u001b[1;32m     14\u001b[0m \u001b[0;31m# 이미지 파일 목록 가져오기\u001b[0m\u001b[0;34m\u001b[0m\u001b[0;34m\u001b[0m\u001b[0m\n\u001b[0;32m---> 15\u001b[0;31m \u001b[0mimage_files\u001b[0m \u001b[0;34m=\u001b[0m \u001b[0;34m[\u001b[0m\u001b[0mf\u001b[0m \u001b[0;32mfor\u001b[0m \u001b[0mf\u001b[0m \u001b[0;32min\u001b[0m \u001b[0mos\u001b[0m\u001b[0;34m.\u001b[0m\u001b[0mlistdir\u001b[0m\u001b[0;34m(\u001b[0m\u001b[0mimage_folder_path\u001b[0m\u001b[0;34m)\u001b[0m \u001b[0;32mif\u001b[0m \u001b[0mos\u001b[0m\u001b[0;34m.\u001b[0m\u001b[0mpath\u001b[0m\u001b[0;34m.\u001b[0m\u001b[0misfile\u001b[0m\u001b[0;34m(\u001b[0m\u001b[0mos\u001b[0m\u001b[0;34m.\u001b[0m\u001b[0mpath\u001b[0m\u001b[0;34m.\u001b[0m\u001b[0mjoin\u001b[0m\u001b[0;34m(\u001b[0m\u001b[0mimage_folder_path\u001b[0m\u001b[0;34m,\u001b[0m \u001b[0mf\u001b[0m\u001b[0;34m)\u001b[0m\u001b[0;34m)\u001b[0m\u001b[0;34m]\u001b[0m\u001b[0;34m\u001b[0m\u001b[0;34m\u001b[0m\u001b[0m\n\u001b[0m\u001b[1;32m     16\u001b[0m \u001b[0;34m\u001b[0m\u001b[0m\n\u001b[1;32m     17\u001b[0m \u001b[0;34m\u001b[0m\u001b[0m\n",
      "\u001b[0;31mFileNotFoundError\u001b[0m: [Errno 2] No such file or directory: 'C:/Users/SSAFY/Desktop/Image/Validation/test'"
     ]
    }
   ],
   "source": [
    "import os\n",
    "import sys\n",
    "import numpy as np\n",
    "from keras.preprocessing import image\n",
    "from keras.applications.inception_resnet_v2 import InceptionResNetV2, preprocess_input, decode_predictions\n",
    "\n",
    "\n",
    "# Inception-ResNet-V2 모델 로드 (사전 학습된 가중치 사용)\n",
    "model = InceptionResNetV2(weights='imagenet')\n",
    "\n",
    "# 이미지가 저장된 로컬 폴더 경로 (예: 'images' 폴더)\n",
    "image_folder_path = 'C:/Users/SSAFY/Desktop/Image/Validation/test'\n",
    "\n",
    "# 이미지 파일 목록 가져오기\n",
    "image_files = [f for f in os.listdir(image_folder_path) if os.path.isfile(os.path.join(image_folder_path, f))]\n",
    "\n",
    "\n",
    "# 각 이미지에 대해 예측 수행\n",
    "for image_file in image_files:\n",
    "    try:\n",
    "        img_path = os.path.join(image_folder_path, image_file)\n",
    "        img = image.load_img(img_path, target_size=(299, 299))  # 모델이 기대하는 입력 크기\n",
    "        x = image.img_to_array(img)\n",
    "        x = np.expand_dims(x, axis=0)\n",
    "        x = preprocess_input(x)\n",
    "\n",
    "        # 모델을 사용하여 예측\n",
    "        preds = model.predict(x)\n",
    "\n",
    "        # 예측 결과 디코딩 및 출력\n",
    "        print(f'Image: {image_file}')\n",
    "        print('Predicted:', decode_predictions(preds, top=3)[0])\n",
    "        print('---------------------------------------')\n",
    "    except Exception as e:\n",
    "        print(f\"Error processing {image_file}: {e}\")"
   ]
  }
 ],
 "metadata": {
  "kernelspec": {
   "display_name": "Python 3",
   "language": "python",
   "name": "python3"
  },
  "language_info": {
   "codemirror_mode": {
    "name": "ipython",
    "version": 3
   },
   "file_extension": ".py",
   "mimetype": "text/x-python",
   "name": "python",
   "nbconvert_exporter": "python",
   "pygments_lexer": "ipython3",
   "version": "3.10.12"
  }
 },
 "nbformat": 4,
 "nbformat_minor": 2
}
